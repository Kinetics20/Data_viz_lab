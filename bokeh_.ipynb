{
 "cells": [
  {
   "cell_type": "code",
   "execution_count": 2,
   "id": "6e169377-1e21-46ab-af35-eedb077befcb",
   "metadata": {},
   "outputs": [],
   "source": [
    "import pandas as pd\n",
    "\n",
    "from bokeh.plotting import figure\n",
    "from bokeh.io import output_file, show"
   ]
  },
  {
   "cell_type": "code",
   "execution_count": 3,
   "id": "f096e734-63e6-4b74-a599-298cec93e1e7",
   "metadata": {},
   "outputs": [
    {
     "data": {
      "text/html": [
       "<div>\n",
       "<style scoped>\n",
       "    .dataframe tbody tr th:only-of-type {\n",
       "        vertical-align: middle;\n",
       "    }\n",
       "\n",
       "    .dataframe tbody tr th {\n",
       "        vertical-align: top;\n",
       "    }\n",
       "\n",
       "    .dataframe thead th {\n",
       "        text-align: right;\n",
       "    }\n",
       "</style>\n",
       "<table border=\"1\" class=\"dataframe\">\n",
       "  <thead>\n",
       "    <tr style=\"text-align: right;\">\n",
       "      <th></th>\n",
       "      <th>player</th>\n",
       "      <th>position</th>\n",
       "      <th>minutes</th>\n",
       "      <th>field_goal_perc</th>\n",
       "      <th>three_point_perc</th>\n",
       "      <th>free_throw_perc</th>\n",
       "      <th>rebounds</th>\n",
       "      <th>assists</th>\n",
       "      <th>steals</th>\n",
       "      <th>blocks</th>\n",
       "      <th>points</th>\n",
       "      <th>team</th>\n",
       "      <th>conference</th>\n",
       "      <th>scorer_category</th>\n",
       "    </tr>\n",
       "  </thead>\n",
       "  <tbody>\n",
       "    <tr>\n",
       "      <th>0</th>\n",
       "      <td>Russell Westbrook</td>\n",
       "      <td>PG</td>\n",
       "      <td>34.6</td>\n",
       "      <td>0.425</td>\n",
       "      <td>0.343</td>\n",
       "      <td>0.845</td>\n",
       "      <td>10.7</td>\n",
       "      <td>10.4</td>\n",
       "      <td>1.6</td>\n",
       "      <td>0.4</td>\n",
       "      <td>31.6</td>\n",
       "      <td>OKC</td>\n",
       "      <td>West</td>\n",
       "      <td>High Scorer</td>\n",
       "    </tr>\n",
       "    <tr>\n",
       "      <th>1</th>\n",
       "      <td>James Harden</td>\n",
       "      <td>PG</td>\n",
       "      <td>36.4</td>\n",
       "      <td>0.440</td>\n",
       "      <td>0.347</td>\n",
       "      <td>0.847</td>\n",
       "      <td>8.1</td>\n",
       "      <td>11.2</td>\n",
       "      <td>1.5</td>\n",
       "      <td>0.5</td>\n",
       "      <td>29.1</td>\n",
       "      <td>HOU</td>\n",
       "      <td>West</td>\n",
       "      <td>High Scorer</td>\n",
       "    </tr>\n",
       "    <tr>\n",
       "      <th>2</th>\n",
       "      <td>Isaiah Thomas</td>\n",
       "      <td>PG</td>\n",
       "      <td>33.8</td>\n",
       "      <td>0.463</td>\n",
       "      <td>0.379</td>\n",
       "      <td>0.909</td>\n",
       "      <td>2.7</td>\n",
       "      <td>5.9</td>\n",
       "      <td>0.9</td>\n",
       "      <td>0.2</td>\n",
       "      <td>28.9</td>\n",
       "      <td>BOS</td>\n",
       "      <td>East</td>\n",
       "      <td>High Scorer</td>\n",
       "    </tr>\n",
       "    <tr>\n",
       "      <th>3</th>\n",
       "      <td>Anthony Davis</td>\n",
       "      <td>C</td>\n",
       "      <td>36.1</td>\n",
       "      <td>0.505</td>\n",
       "      <td>0.299</td>\n",
       "      <td>0.802</td>\n",
       "      <td>11.8</td>\n",
       "      <td>2.1</td>\n",
       "      <td>1.3</td>\n",
       "      <td>2.2</td>\n",
       "      <td>28.0</td>\n",
       "      <td>NO</td>\n",
       "      <td>West</td>\n",
       "      <td>High Scorer</td>\n",
       "    </tr>\n",
       "    <tr>\n",
       "      <th>4</th>\n",
       "      <td>DeMar DeRozan</td>\n",
       "      <td>SG</td>\n",
       "      <td>35.4</td>\n",
       "      <td>0.467</td>\n",
       "      <td>0.266</td>\n",
       "      <td>0.842</td>\n",
       "      <td>5.2</td>\n",
       "      <td>3.9</td>\n",
       "      <td>1.1</td>\n",
       "      <td>0.2</td>\n",
       "      <td>27.3</td>\n",
       "      <td>TOR</td>\n",
       "      <td>East</td>\n",
       "      <td>High Scorer</td>\n",
       "    </tr>\n",
       "  </tbody>\n",
       "</table>\n",
       "</div>"
      ],
      "text/plain": [
       "              player position  minutes  field_goal_perc  three_point_perc  \\\n",
       "0  Russell Westbrook       PG     34.6            0.425             0.343   \n",
       "1       James Harden       PG     36.4            0.440             0.347   \n",
       "2      Isaiah Thomas       PG     33.8            0.463             0.379   \n",
       "3      Anthony Davis        C     36.1            0.505             0.299   \n",
       "4      DeMar DeRozan       SG     35.4            0.467             0.266   \n",
       "\n",
       "   free_throw_perc  rebounds  assists  steals  blocks  points team conference  \\\n",
       "0            0.845      10.7     10.4     1.6     0.4    31.6  OKC       West   \n",
       "1            0.847       8.1     11.2     1.5     0.5    29.1  HOU       West   \n",
       "2            0.909       2.7      5.9     0.9     0.2    28.9  BOS       East   \n",
       "3            0.802      11.8      2.1     1.3     2.2    28.0   NO       West   \n",
       "4            0.842       5.2      3.9     1.1     0.2    27.3  TOR       East   \n",
       "\n",
       "  scorer_category  \n",
       "0     High Scorer  \n",
       "1     High Scorer  \n",
       "2     High Scorer  \n",
       "3     High Scorer  \n",
       "4     High Scorer  "
      ]
     },
     "execution_count": 3,
     "metadata": {},
     "output_type": "execute_result"
    }
   ],
   "source": [
    "nba = pd.read_csv('datasets/nba.csv')\n",
    "nba.head()"
   ]
  },
  {
   "cell_type": "code",
   "execution_count": 9,
   "id": "35ebe0d6-1bdd-4f57-a291-b5cb5f26884b",
   "metadata": {},
   "outputs": [
    {
     "name": "stderr",
     "output_type": "stream",
     "text": [
      "Gtk-Message: 15:32:10.801: Not loading module \"atk-bridge\": The functionality is provided by GTK natively. Please try to not load it.\n"
     ]
    }
   ],
   "source": [
    "fig = figure(\n",
    "    x_axis_label='Blocks per Game',\n",
    "    y_axis_label='Rebounds per Game'\n",
    ")\n",
    "\n",
    "\n",
    "# glyphs\n",
    "\n",
    "fig.circle(x=nba['blocks'], y=nba['rebounds'], radius=0.01)\n",
    "\n",
    "output_file(filename='bokeh_plot.html')\n",
    "show(fig)"
   ]
  },
  {
   "cell_type": "code",
   "execution_count": 7,
   "id": "64c39a36-6e73-41e1-9865-2eef565068b3",
   "metadata": {},
   "outputs": [
    {
     "name": "stdout",
     "output_type": "stream",
     "text": [
      "/home/lipov/projects/data_visualisation\n"
     ]
    }
   ],
   "source": [
    "!pwd"
   ]
  },
  {
   "cell_type": "code",
   "execution_count": 10,
   "id": "e161eab5-8002-4187-844b-20b4174c5036",
   "metadata": {},
   "outputs": [
    {
     "name": "stderr",
     "output_type": "stream",
     "text": [
      "Gtk-Message: 15:35:22.372: Not loading module \"atk-bridge\": The functionality is provided by GTK natively. Please try to not load it.\n"
     ]
    }
   ],
   "source": [
    "fig = figure(\n",
    "    x_axis_label='Season',\n",
    "    y_axis_label='Points',\n",
    "    title='Season vs Points'\n",
    ")\n",
    "\n",
    "\n",
    "# glyphs\n",
    "\n",
    "fig.line(x=nba['minutes'], y=nba['points'], radius=0.05)\n",
    "\n",
    "output_file(filename='bokeh_plot.html')\n",
    "show(fig)"
   ]
  },
  {
   "cell_type": "code",
   "execution_count": 11,
   "id": "2c035696-115b-4208-8116-d5cdc0ae9a51",
   "metadata": {},
   "outputs": [],
   "source": [
    "from bokeh.models import ColumnDataSource"
   ]
  },
  {
   "cell_type": "code",
   "execution_count": 12,
   "id": "382a77db-b82f-4e26-ab60-6ff37b5ee76d",
   "metadata": {},
   "outputs": [
    {
     "name": "stderr",
     "output_type": "stream",
     "text": [
      "Gtk-Message: 15:40:55.648: Not loading module \"atk-bridge\": The functionality is provided by GTK natively. Please try to not load it.\n"
     ]
    }
   ],
   "source": [
    "\n",
    "source = ColumnDataSource(data=nba)\n",
    "\n",
    "fig = figure(\n",
    "    x_axis_label='Assists',\n",
    "    y_axis_label='Steals',\n",
    "    title='Assists vs Steals'\n",
    ")\n",
    "\n",
    "\n",
    "# glyphs\n",
    "\n",
    "fig.scatter(x='assists', y='steals', source=source)\n",
    "\n",
    "output_file(filename='bokeh_plot.html')\n",
    "show(fig)"
   ]
  },
  {
   "cell_type": "code",
   "execution_count": 14,
   "id": "a4109cb1-bd77-400c-8ad3-6929ad6fdb79",
   "metadata": {},
   "outputs": [
    {
     "name": "stderr",
     "output_type": "stream",
     "text": [
      "Gtk-Message: 15:44:38.876: Not loading module \"atk-bridge\": The functionality is provided by GTK natively. Please try to not load it.\n"
     ]
    }
   ],
   "source": [
    "\n",
    "source = ColumnDataSource(data=nba)\n",
    "\n",
    "tooltips = [('Name', '@player'), ('Position', '@position'), ('Team', '@team')]\n",
    "\n",
    "\n",
    "fig = figure(\n",
    "    x_axis_label='Assists',\n",
    "    y_axis_label='Steals',\n",
    "    title='Assists vs Steals',\n",
    "    tooltips=tooltips\n",
    ")\n",
    "\n",
    "\n",
    "# glyphs\n",
    "\n",
    "fig.scatter(x='assists', y='steals', source=source)\n",
    "\n",
    "output_file(filename='bokeh_plot.html')\n",
    "show(fig)"
   ]
  },
  {
   "cell_type": "code",
   "execution_count": 17,
   "id": "4674b790-181e-49f2-9d84-d81caa76324b",
   "metadata": {},
   "outputs": [
    {
     "name": "stderr",
     "output_type": "stream",
     "text": [
      "Gtk-Message: 15:50:03.929: Not loading module \"atk-bridge\": The functionality is provided by GTK natively. Please try to not load it.\n"
     ]
    }
   ],
   "source": [
    "\n",
    "source = ColumnDataSource(data=nba)\n",
    "\n",
    "tooltips = [('Name', '@player'), ('Conference', '@conference'), ('Field Goal %', '@field_goal_perc{0.2f}')]\n",
    "\n",
    "\n",
    "fig = figure(\n",
    "    x_axis_label='Assists',\n",
    "    y_axis_label='Steals',\n",
    "    title='miniutes vs goals',\n",
    "    tooltips=tooltips\n",
    ")\n",
    "\n",
    "\n",
    "# glyphs\n",
    "\n",
    "fig.scatter(x='minutes', y='points', source=source)\n",
    "\n",
    "output_file(filename='bokeh_plot.html')\n",
    "show(fig)"
   ]
  },
  {
   "cell_type": "code",
   "execution_count": 18,
   "id": "c2bb7fba-c3b0-4a2e-af7b-65cccb68571f",
   "metadata": {},
   "outputs": [],
   "source": [
    "from bokeh.models import Div\n",
    "from bokeh.layouts import layout"
   ]
  },
  {
   "cell_type": "code",
   "execution_count": 19,
   "id": "1ce29306-8dce-4b07-a086-ab197df2d1f9",
   "metadata": {},
   "outputs": [
    {
     "data": {
      "text/html": [
       "<div>\n",
       "<style scoped>\n",
       "    .dataframe tbody tr th:only-of-type {\n",
       "        vertical-align: middle;\n",
       "    }\n",
       "\n",
       "    .dataframe tbody tr th {\n",
       "        vertical-align: top;\n",
       "    }\n",
       "\n",
       "    .dataframe thead th {\n",
       "        text-align: right;\n",
       "    }\n",
       "</style>\n",
       "<table border=\"1\" class=\"dataframe\">\n",
       "  <thead>\n",
       "    <tr style=\"text-align: right;\">\n",
       "      <th></th>\n",
       "      <th>Unnamed: 0</th>\n",
       "      <th>date</th>\n",
       "      <th>open</th>\n",
       "      <th>high</th>\n",
       "      <th>low</th>\n",
       "      <th>close</th>\n",
       "      <th>volume</th>\n",
       "      <th>name</th>\n",
       "    </tr>\n",
       "  </thead>\n",
       "  <tbody>\n",
       "    <tr>\n",
       "      <th>0</th>\n",
       "      <td>0</td>\n",
       "      <td>2014-06-02</td>\n",
       "      <td>90.5656</td>\n",
       "      <td>90.6899</td>\n",
       "      <td>88.9285</td>\n",
       "      <td>89.8071</td>\n",
       "      <td>92337903</td>\n",
       "      <td>AAPL</td>\n",
       "    </tr>\n",
       "    <tr>\n",
       "      <th>1</th>\n",
       "      <td>1</td>\n",
       "      <td>2014-06-03</td>\n",
       "      <td>89.7799</td>\n",
       "      <td>91.2485</td>\n",
       "      <td>89.7499</td>\n",
       "      <td>91.0771</td>\n",
       "      <td>73231620</td>\n",
       "      <td>AAPL</td>\n",
       "    </tr>\n",
       "    <tr>\n",
       "      <th>2</th>\n",
       "      <td>2</td>\n",
       "      <td>2014-06-04</td>\n",
       "      <td>91.0628</td>\n",
       "      <td>92.5556</td>\n",
       "      <td>90.8728</td>\n",
       "      <td>92.1171</td>\n",
       "      <td>83870521</td>\n",
       "      <td>AAPL</td>\n",
       "    </tr>\n",
       "    <tr>\n",
       "      <th>3</th>\n",
       "      <td>3</td>\n",
       "      <td>2014-06-05</td>\n",
       "      <td>92.3142</td>\n",
       "      <td>92.7670</td>\n",
       "      <td>91.8013</td>\n",
       "      <td>92.4785</td>\n",
       "      <td>75951141</td>\n",
       "      <td>AAPL</td>\n",
       "    </tr>\n",
       "    <tr>\n",
       "      <th>4</th>\n",
       "      <td>4</td>\n",
       "      <td>2014-06-06</td>\n",
       "      <td>92.8428</td>\n",
       "      <td>93.0370</td>\n",
       "      <td>92.0671</td>\n",
       "      <td>92.2242</td>\n",
       "      <td>87620911</td>\n",
       "      <td>AAPL</td>\n",
       "    </tr>\n",
       "  </tbody>\n",
       "</table>\n",
       "</div>"
      ],
      "text/plain": [
       "   Unnamed: 0        date     open     high      low    close    volume  name\n",
       "0           0  2014-06-02  90.5656  90.6899  88.9285  89.8071  92337903  AAPL\n",
       "1           1  2014-06-03  89.7799  91.2485  89.7499  91.0771  73231620  AAPL\n",
       "2           2  2014-06-04  91.0628  92.5556  90.8728  92.1171  83870521  AAPL\n",
       "3           3  2014-06-05  92.3142  92.7670  91.8013  92.4785  75951141  AAPL\n",
       "4           4  2014-06-06  92.8428  93.0370  92.0671  92.2242  87620911  AAPL"
      ]
     },
     "execution_count": 19,
     "metadata": {},
     "output_type": "execute_result"
    }
   ],
   "source": [
    "df = pd.read_csv('datasets/stocks_cleaned.csv')\n",
    "df.head()"
   ]
  },
  {
   "cell_type": "code",
   "execution_count": 20,
   "id": "ce55fb48-0e06-4921-903c-9215c1293108",
   "metadata": {},
   "outputs": [
    {
     "data": {
      "text/plain": [
       "array(['AAPL', 'AAP', 'ABBV', 'ADSK', 'ADS', 'AEP', 'AES', 'AIG', 'AIV',\n",
       "       'AJG', 'AKAM', 'ALGN', 'ALL', 'ALXN', 'AMAT', 'AME', 'AMGN', 'AMG',\n",
       "       'AMP', 'AMT', 'AMZN', 'ANDV', 'ANSS', 'ANTM', 'AON', 'AVB', 'BA',\n",
       "       'BSX', 'CA', 'CBS', 'CHRW', 'CMS', 'COL', 'COST', 'CRM', 'CSCO',\n",
       "       'CSX', 'CTAS', 'CTL', 'CTSH', 'CTXS', 'CVS', 'CVX', 'CXO', 'C',\n",
       "       'DAL', 'DE', 'DFS', 'DGX', 'DG', 'DHI', 'DISCA', 'DISCK', 'DISH',\n",
       "       'DIS', 'DLTR', 'DOV', 'DPS', 'DRE', 'DRI', 'DTE', 'DUK', 'DVA',\n",
       "       'DVN', 'EA', 'EBAY', 'EIX', 'EMN', 'EQR', 'EQT', 'ESRX', 'ESS',\n",
       "       'ETFC', 'ETN', 'ETR', 'EW', 'EXC', 'EXPD', 'EXPE', 'EXR', 'FAST',\n",
       "       'FBHS', 'FB', 'FDX', 'FIS', 'FITB', 'FLR', 'FL', 'FMC', 'FOX',\n",
       "       'FRT', 'FTI', 'F', 'GD', 'GE', 'GGP', 'GM', 'GOOGL', 'GOOG', 'HBI',\n",
       "       'HCN', 'HCP', 'HD', 'HP', 'HUM', 'IBM', 'INTU', 'IPG', 'IQV',\n",
       "       'IRM', 'IR', 'ISRG', 'ITW', 'IT', 'JNJ', 'JNPR', 'JPM', 'JWN',\n",
       "       'KEY', 'KIM', 'KORS', 'LLY', 'LNT', 'LOW', 'LUK', 'LUV', 'MAC',\n",
       "       'MAR', 'MAS', 'MAT', 'MA', 'MCD', 'MCHP', 'MCK', 'MGM', 'MNST',\n",
       "       'MOS', 'MRK', 'MSFT', 'MS', 'MTB', 'MTD', 'MU', 'NBL', 'NDAQ',\n",
       "       'NEE', 'NFLX', 'NFX', 'NKE', 'NVDA'], dtype=object)"
      ]
     },
     "execution_count": 20,
     "metadata": {},
     "output_type": "execute_result"
    }
   ],
   "source": [
    "df['name'].unique()"
   ]
  },
  {
   "cell_type": "code",
   "execution_count": 25,
   "id": "9b32bab2-f2be-433b-844c-49bd307aeddd",
   "metadata": {},
   "outputs": [
    {
     "data": {
      "text/html": [
       "<div>\n",
       "<style scoped>\n",
       "    .dataframe tbody tr th:only-of-type {\n",
       "        vertical-align: middle;\n",
       "    }\n",
       "\n",
       "    .dataframe tbody tr th {\n",
       "        vertical-align: top;\n",
       "    }\n",
       "\n",
       "    .dataframe thead th {\n",
       "        text-align: right;\n",
       "    }\n",
       "</style>\n",
       "<table border=\"1\" class=\"dataframe\">\n",
       "  <thead>\n",
       "    <tr style=\"text-align: right;\">\n",
       "      <th></th>\n",
       "      <th>Unnamed: 0</th>\n",
       "      <th>date</th>\n",
       "      <th>open</th>\n",
       "      <th>high</th>\n",
       "      <th>low</th>\n",
       "      <th>close</th>\n",
       "      <th>volume</th>\n",
       "      <th>name</th>\n",
       "    </tr>\n",
       "  </thead>\n",
       "  <tbody>\n",
       "    <tr>\n",
       "      <th>18600</th>\n",
       "      <td>18600</td>\n",
       "      <td>2014-06-02</td>\n",
       "      <td>312.59</td>\n",
       "      <td>312.60</td>\n",
       "      <td>307.00</td>\n",
       "      <td>308.84</td>\n",
       "      <td>2205909</td>\n",
       "      <td>AMZN</td>\n",
       "    </tr>\n",
       "    <tr>\n",
       "      <th>18601</th>\n",
       "      <td>18601</td>\n",
       "      <td>2014-06-03</td>\n",
       "      <td>305.75</td>\n",
       "      <td>307.92</td>\n",
       "      <td>305.07</td>\n",
       "      <td>307.19</td>\n",
       "      <td>2379273</td>\n",
       "      <td>AMZN</td>\n",
       "    </tr>\n",
       "    <tr>\n",
       "      <th>18602</th>\n",
       "      <td>18602</td>\n",
       "      <td>2014-06-04</td>\n",
       "      <td>306.85</td>\n",
       "      <td>309.50</td>\n",
       "      <td>303.84</td>\n",
       "      <td>306.78</td>\n",
       "      <td>2111176</td>\n",
       "      <td>AMZN</td>\n",
       "    </tr>\n",
       "    <tr>\n",
       "      <th>18603</th>\n",
       "      <td>18603</td>\n",
       "      <td>2014-06-05</td>\n",
       "      <td>308.10</td>\n",
       "      <td>327.94</td>\n",
       "      <td>306.90</td>\n",
       "      <td>323.57</td>\n",
       "      <td>7803760</td>\n",
       "      <td>AMZN</td>\n",
       "    </tr>\n",
       "    <tr>\n",
       "      <th>18604</th>\n",
       "      <td>18604</td>\n",
       "      <td>2014-06-06</td>\n",
       "      <td>325.00</td>\n",
       "      <td>330.88</td>\n",
       "      <td>324.93</td>\n",
       "      <td>329.67</td>\n",
       "      <td>5246723</td>\n",
       "      <td>AMZN</td>\n",
       "    </tr>\n",
       "  </tbody>\n",
       "</table>\n",
       "</div>"
      ],
      "text/plain": [
       "       Unnamed: 0        date    open    high     low   close   volume  name\n",
       "18600       18600  2014-06-02  312.59  312.60  307.00  308.84  2205909  AMZN\n",
       "18601       18601  2014-06-03  305.75  307.92  305.07  307.19  2379273  AMZN\n",
       "18602       18602  2014-06-04  306.85  309.50  303.84  306.78  2111176  AMZN\n",
       "18603       18603  2014-06-05  308.10  327.94  306.90  323.57  7803760  AMZN\n",
       "18604       18604  2014-06-06  325.00  330.88  324.93  329.67  5246723  AMZN"
      ]
     },
     "execution_count": 25,
     "metadata": {},
     "output_type": "execute_result"
    }
   ],
   "source": [
    "df_amazon = df.loc[df['name'] == 'AMZN']\n",
    "df_amazon.head()"
   ]
  },
  {
   "cell_type": "code",
   "execution_count": 31,
   "id": "b44be4da-dfb8-4e01-a17e-1b16cb38e728",
   "metadata": {},
   "outputs": [],
   "source": [
    "dates = df_amazon['date'].copy()\n",
    "\n",
    "df_amazon.loc[:,'date'] = pd.to_datetime(dates)"
   ]
  },
  {
   "cell_type": "code",
   "execution_count": 42,
   "id": "d2107428-4e13-4441-beac-b354c6872273",
   "metadata": {},
   "outputs": [],
   "source": [
    "from bokeh.models import DatetimeTickFormatter\n",
    "from bokeh.models import BoxAnnotation\n",
    "from bokeh.models import Spinner"
   ]
  },
  {
   "cell_type": "code",
   "execution_count": 47,
   "id": "c5323f96-419b-45c8-9581-c0a0e70e43d0",
   "metadata": {},
   "outputs": [
    {
     "name": "stderr",
     "output_type": "stream",
     "text": [
      "Gtk-Message: 16:35:43.218: Not loading module \"atk-bridge\": The functionality is provided by GTK natively. Please try to not load it.\n"
     ]
    }
   ],
   "source": [
    "dates = df_amazon[\"date\"].copy()\n",
    "\n",
    "df_amazon.loc[:, \"date\"] = pd.to_datetime(dates)\n",
    "\n",
    "source = ColumnDataSource(data=df_amazon)\n",
    "\n",
    "fig = figure(\n",
    "    x_axis_label=\"Date\",\n",
    "    y_axis_label=\"Stock Price ($)\"\n",
    ")\n",
    "\n",
    "fig.line(x=\"date\", y=\"close\", source=source, color=\"purple\")\n",
    "fig.xaxis[0].formatter = DatetimeTickFormatter(months=\"%b %Y\")\n",
    "\n",
    "box = BoxAnnotation(bottom=df_amazon[\"close\"].mean(), fill_color=\"green\", fill_alpha=0.3)\n",
    "fig.add_layout(box)\n",
    "\n",
    "output_file(filename=\"amazon_stock.html\")\n",
    "\n",
    "show(fig)"
   ]
  },
  {
   "cell_type": "code",
   "execution_count": 48,
   "id": "ee00007f-6333-49fd-be9e-e920d4030874",
   "metadata": {},
   "outputs": [
    {
     "name": "stderr",
     "output_type": "stream",
     "text": [
      "Gtk-Message: 16:37:31.527: Not loading module \"atk-bridge\": The functionality is provided by GTK natively. Please try to not load it.\n"
     ]
    }
   ],
   "source": [
    "dates = df_amazon[\"date\"].copy()\n",
    "\n",
    "df_amazon.loc[:, \"date\"] = pd.to_datetime(dates)\n",
    "\n",
    "source = ColumnDataSource(data=df_amazon)\n",
    "\n",
    "fig = figure(\n",
    "    x_axis_label=\"Date\",\n",
    "    y_axis_label=\"Stock Price ($)\"\n",
    ")\n",
    "\n",
    "line = fig.line(x=\"date\", y=\"close\", source=source, color=\"purple\", line_width=1)\n",
    "fig.xaxis[0].formatter = DatetimeTickFormatter(months=\"%b %Y\")\n",
    "\n",
    "box = BoxAnnotation(bottom=df_amazon[\"close\"].mean(), fill_color=\"green\", fill_alpha=0.3)\n",
    "fig.add_layout(box)\n",
    "\n",
    "title = Div(text='Amazon stock prices')\n",
    "\n",
    "spinner = Spinner(title='Title', low=0, high=1, step=0.1, value=0.3, width=60)\n",
    "spinner.js_link('value', box, 'fill_alpha')\n",
    "\n",
    "spinner_linewidth = Spinner(title='Line Width', low=0, high=10, step=0.5, value=1, width=60)\n",
    "spinner_linewidth.js_link('value', line.glyph, 'line_width')\n",
    "\n",
    "output_file(filename=\"amazon_stock.html\")\n",
    "\n",
    "show(layout([title], [spinner, spinner_linewidth,fig]))"
   ]
  },
  {
   "cell_type": "code",
   "execution_count": null,
   "id": "79f06dd7-9290-44ee-b551-358f75bbe5f2",
   "metadata": {},
   "outputs": [],
   "source": []
  }
 ],
 "metadata": {
  "kernelspec": {
   "display_name": "Python 3 (ipykernel)",
   "language": "python",
   "name": "python3"
  },
  "language_info": {
   "codemirror_mode": {
    "name": "ipython",
    "version": 3
   },
   "file_extension": ".py",
   "mimetype": "text/x-python",
   "name": "python",
   "nbconvert_exporter": "python",
   "pygments_lexer": "ipython3",
   "version": "3.13.1"
  }
 },
 "nbformat": 4,
 "nbformat_minor": 5
}
