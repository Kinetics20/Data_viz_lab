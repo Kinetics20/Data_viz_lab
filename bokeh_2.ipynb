{
 "cells": [
  {
   "cell_type": "code",
   "id": "initial_id",
   "metadata": {
    "collapsed": true,
    "ExecuteTime": {
     "end_time": "2025-04-11T12:37:26.732752Z",
     "start_time": "2025-04-11T12:37:26.612464Z"
    }
   },
   "source": [
    "import pandas as pd\n",
    "\n",
    "from bokeh.plotting import figure\n",
    "from bokeh.io import output_file, show"
   ],
   "outputs": [],
   "execution_count": 1
  },
  {
   "metadata": {
    "ExecuteTime": {
     "end_time": "2025-04-11T12:56:11.161912Z",
     "start_time": "2025-04-11T12:56:11.100839Z"
    }
   },
   "cell_type": "code",
   "source": [
    "nba = pd.read_csv('datasets/nba.csv')\n",
    "nba.head()"
   ],
   "id": "54f998619f5d60ec",
   "outputs": [
    {
     "data": {
      "text/plain": [
       "              player position  minutes  field_goal_perc  three_point_perc  \\\n",
       "0  Russell Westbrook       PG     34.6            0.425             0.343   \n",
       "1       James Harden       PG     36.4            0.440             0.347   \n",
       "2      Isaiah Thomas       PG     33.8            0.463             0.379   \n",
       "3      Anthony Davis        C     36.1            0.505             0.299   \n",
       "4      DeMar DeRozan       SG     35.4            0.467             0.266   \n",
       "\n",
       "   free_throw_perc  rebounds  assists  steals  blocks  points team conference  \\\n",
       "0            0.845      10.7     10.4     1.6     0.4    31.6  OKC       West   \n",
       "1            0.847       8.1     11.2     1.5     0.5    29.1  HOU       West   \n",
       "2            0.909       2.7      5.9     0.9     0.2    28.9  BOS       East   \n",
       "3            0.802      11.8      2.1     1.3     2.2    28.0   NO       West   \n",
       "4            0.842       5.2      3.9     1.1     0.2    27.3  TOR       East   \n",
       "\n",
       "  scorer_category  \n",
       "0     High Scorer  \n",
       "1     High Scorer  \n",
       "2     High Scorer  \n",
       "3     High Scorer  \n",
       "4     High Scorer  "
      ],
      "text/html": [
       "<div>\n",
       "<style scoped>\n",
       "    .dataframe tbody tr th:only-of-type {\n",
       "        vertical-align: middle;\n",
       "    }\n",
       "\n",
       "    .dataframe tbody tr th {\n",
       "        vertical-align: top;\n",
       "    }\n",
       "\n",
       "    .dataframe thead th {\n",
       "        text-align: right;\n",
       "    }\n",
       "</style>\n",
       "<table border=\"1\" class=\"dataframe\">\n",
       "  <thead>\n",
       "    <tr style=\"text-align: right;\">\n",
       "      <th></th>\n",
       "      <th>player</th>\n",
       "      <th>position</th>\n",
       "      <th>minutes</th>\n",
       "      <th>field_goal_perc</th>\n",
       "      <th>three_point_perc</th>\n",
       "      <th>free_throw_perc</th>\n",
       "      <th>rebounds</th>\n",
       "      <th>assists</th>\n",
       "      <th>steals</th>\n",
       "      <th>blocks</th>\n",
       "      <th>points</th>\n",
       "      <th>team</th>\n",
       "      <th>conference</th>\n",
       "      <th>scorer_category</th>\n",
       "    </tr>\n",
       "  </thead>\n",
       "  <tbody>\n",
       "    <tr>\n",
       "      <th>0</th>\n",
       "      <td>Russell Westbrook</td>\n",
       "      <td>PG</td>\n",
       "      <td>34.6</td>\n",
       "      <td>0.425</td>\n",
       "      <td>0.343</td>\n",
       "      <td>0.845</td>\n",
       "      <td>10.7</td>\n",
       "      <td>10.4</td>\n",
       "      <td>1.6</td>\n",
       "      <td>0.4</td>\n",
       "      <td>31.6</td>\n",
       "      <td>OKC</td>\n",
       "      <td>West</td>\n",
       "      <td>High Scorer</td>\n",
       "    </tr>\n",
       "    <tr>\n",
       "      <th>1</th>\n",
       "      <td>James Harden</td>\n",
       "      <td>PG</td>\n",
       "      <td>36.4</td>\n",
       "      <td>0.440</td>\n",
       "      <td>0.347</td>\n",
       "      <td>0.847</td>\n",
       "      <td>8.1</td>\n",
       "      <td>11.2</td>\n",
       "      <td>1.5</td>\n",
       "      <td>0.5</td>\n",
       "      <td>29.1</td>\n",
       "      <td>HOU</td>\n",
       "      <td>West</td>\n",
       "      <td>High Scorer</td>\n",
       "    </tr>\n",
       "    <tr>\n",
       "      <th>2</th>\n",
       "      <td>Isaiah Thomas</td>\n",
       "      <td>PG</td>\n",
       "      <td>33.8</td>\n",
       "      <td>0.463</td>\n",
       "      <td>0.379</td>\n",
       "      <td>0.909</td>\n",
       "      <td>2.7</td>\n",
       "      <td>5.9</td>\n",
       "      <td>0.9</td>\n",
       "      <td>0.2</td>\n",
       "      <td>28.9</td>\n",
       "      <td>BOS</td>\n",
       "      <td>East</td>\n",
       "      <td>High Scorer</td>\n",
       "    </tr>\n",
       "    <tr>\n",
       "      <th>3</th>\n",
       "      <td>Anthony Davis</td>\n",
       "      <td>C</td>\n",
       "      <td>36.1</td>\n",
       "      <td>0.505</td>\n",
       "      <td>0.299</td>\n",
       "      <td>0.802</td>\n",
       "      <td>11.8</td>\n",
       "      <td>2.1</td>\n",
       "      <td>1.3</td>\n",
       "      <td>2.2</td>\n",
       "      <td>28.0</td>\n",
       "      <td>NO</td>\n",
       "      <td>West</td>\n",
       "      <td>High Scorer</td>\n",
       "    </tr>\n",
       "    <tr>\n",
       "      <th>4</th>\n",
       "      <td>DeMar DeRozan</td>\n",
       "      <td>SG</td>\n",
       "      <td>35.4</td>\n",
       "      <td>0.467</td>\n",
       "      <td>0.266</td>\n",
       "      <td>0.842</td>\n",
       "      <td>5.2</td>\n",
       "      <td>3.9</td>\n",
       "      <td>1.1</td>\n",
       "      <td>0.2</td>\n",
       "      <td>27.3</td>\n",
       "      <td>TOR</td>\n",
       "      <td>East</td>\n",
       "      <td>High Scorer</td>\n",
       "    </tr>\n",
       "  </tbody>\n",
       "</table>\n",
       "</div>"
      ]
     },
     "execution_count": 2,
     "metadata": {},
     "output_type": "execute_result"
    }
   ],
   "execution_count": 2
  },
  {
   "metadata": {
    "ExecuteTime": {
     "end_time": "2025-04-11T13:16:00.780196Z",
     "start_time": "2025-04-11T13:16:00.630254Z"
    }
   },
   "cell_type": "code",
   "source": [
    "fig = figure(\n",
    "    x_axis_label='Blocks per Game',\n",
    "    y_axis_label='Rebounds per Game'\n",
    ")\n",
    "\n",
    "\n",
    "\n",
    "fig.circle(x=nba['blocks'], y=nba['rebounds'], radius=0.02)\n",
    "\n",
    "# output_file(filename='bokeh_plt_2.html')\n",
    "show(fig)"
   ],
   "id": "9a91d77cae92e05d",
   "outputs": [],
   "execution_count": 6
  },
  {
   "metadata": {
    "ExecuteTime": {
     "end_time": "2025-04-11T13:21:19.182636Z",
     "start_time": "2025-04-11T13:21:19.047285Z"
    }
   },
   "cell_type": "code",
   "source": [
    "fig = figure(\n",
    "    x_axis_label='minutes',\n",
    "    y_axis_label='Points',\n",
    "    title='minutes vs Points'\n",
    ")\n",
    "\n",
    "\n",
    "\n",
    "fig.line(x=nba['minutes'], y=nba['points'])\n",
    "\n",
    "# output_file(filename='bokeh_plt_2.html')\n",
    "show(fig)"
   ],
   "id": "a99c3c219b95aa56",
   "outputs": [],
   "execution_count": 7
  },
  {
   "metadata": {
    "ExecuteTime": {
     "end_time": "2025-04-11T13:24:19.746871Z",
     "start_time": "2025-04-11T13:24:19.740714Z"
    }
   },
   "cell_type": "code",
   "source": "from bokeh.models import ColumnDataSource",
   "id": "b61e455f9783243",
   "outputs": [],
   "execution_count": 8
  },
  {
   "metadata": {
    "ExecuteTime": {
     "end_time": "2025-04-11T13:45:41.606925Z",
     "start_time": "2025-04-11T13:45:41.483271Z"
    }
   },
   "cell_type": "code",
   "source": [
    "source = ColumnDataSource(data=nba)\n",
    "\n",
    "tooltips = [('Name', '@player'), ('Position', '@position'), ('Team', '@team')]\n",
    "\n",
    "\n",
    "fig = figure(\n",
    "    x_axis_label='Assists',\n",
    "    y_axis_label='Steals',\n",
    "    title='Assists vs Steals',\n",
    "    tooltips=tooltips\n",
    ")\n",
    "\n",
    "\n",
    "\n",
    "fig.scatter(x='assists', y='steals', source=source)\n",
    "\n",
    "# output_file(filename='bokeh_plt_2.html')\n",
    "show(fig)"
   ],
   "id": "e8d0c5383093748d",
   "outputs": [],
   "execution_count": 12
  },
  {
   "metadata": {},
   "cell_type": "code",
   "outputs": [],
   "execution_count": null,
   "source": "",
   "id": "9438289ed484082e"
  }
 ],
 "metadata": {
  "kernelspec": {
   "display_name": "Python 3",
   "language": "python",
   "name": "python3"
  },
  "language_info": {
   "codemirror_mode": {
    "name": "ipython",
    "version": 2
   },
   "file_extension": ".py",
   "mimetype": "text/x-python",
   "name": "python",
   "nbconvert_exporter": "python",
   "pygments_lexer": "ipython2",
   "version": "2.7.6"
  }
 },
 "nbformat": 4,
 "nbformat_minor": 5
}
